{
 "metadata": {
  "name": "",
  "signature": "sha256:bb9a5df803a53fde70b8a5df0aeeedddc060d7aa22bfad1e1aafeea69e297e26"
 },
 "nbformat": 3,
 "nbformat_minor": 0,
 "worksheets": [
  {
   "cells": [
    {
     "cell_type": "code",
     "collapsed": false,
     "input": [
      "import numpy as np\n",
      "import pandas as pd\n",
      "import matplotlib.pyplot as plt\n",
      "%matplotlib inline"
     ],
     "language": "python",
     "metadata": {},
     "outputs": [],
     "prompt_number": 1
    },
    {
     "cell_type": "code",
     "collapsed": false,
     "input": [
      "pitch = pd.read_csv('pitch/generosa.csv', header=None)"
     ],
     "language": "python",
     "metadata": {},
     "outputs": [],
     "prompt_number": 2
    },
    {
     "cell_type": "code",
     "collapsed": false,
     "input": [
      "pitch"
     ],
     "language": "python",
     "metadata": {},
     "outputs": [
      {
       "html": [
        "<div style=\"max-height:1000px;max-width:1500px;overflow:auto;\">\n",
        "<table border=\"1\" class=\"dataframe\">\n",
        "  <thead>\n",
        "    <tr style=\"text-align: right;\">\n",
        "      <th></th>\n",
        "      <th>0</th>\n",
        "      <th>1</th>\n",
        "    </tr>\n",
        "  </thead>\n",
        "  <tbody>\n",
        "    <tr>\n",
        "      <th>0</th>\n",
        "      <td>0.023220</td>\n",
        "      <td>-440</td>\n",
        "    </tr>\n",
        "    <tr>\n",
        "      <th>1</th>\n",
        "      <td>0.026122</td>\n",
        "      <td>-440</td>\n",
        "    </tr>\n",
        "    <tr>\n",
        "      <th>2</th>\n",
        "      <td>0.029025</td>\n",
        "      <td>-440</td>\n",
        "    </tr>\n",
        "    <tr>\n",
        "      <th>3</th>\n",
        "      <td>0.031927</td>\n",
        "      <td>-440</td>\n",
        "    </tr>\n",
        "    <tr>\n",
        "      <th>4</th>\n",
        "      <td>0.034830</td>\n",
        "      <td>-440</td>\n",
        "    </tr>\n",
        "    <tr>\n",
        "      <th>5</th>\n",
        "      <td>0.037732</td>\n",
        "      <td>-440</td>\n",
        "    </tr>\n",
        "    <tr>\n",
        "      <th>6</th>\n",
        "      <td>0.040635</td>\n",
        "      <td>-440</td>\n",
        "    </tr>\n",
        "    <tr>\n",
        "      <th>7</th>\n",
        "      <td>0.043537</td>\n",
        "      <td>-440</td>\n",
        "    </tr>\n",
        "    <tr>\n",
        "      <th>8</th>\n",
        "      <td>0.046440</td>\n",
        "      <td>-440</td>\n",
        "    </tr>\n",
        "    <tr>\n",
        "      <th>9</th>\n",
        "      <td>0.049342</td>\n",
        "      <td>-440</td>\n",
        "    </tr>\n",
        "    <tr>\n",
        "      <th>10</th>\n",
        "      <td>0.052245</td>\n",
        "      <td>-440</td>\n",
        "    </tr>\n",
        "    <tr>\n",
        "      <th>11</th>\n",
        "      <td>0.055147</td>\n",
        "      <td>-440</td>\n",
        "    </tr>\n",
        "    <tr>\n",
        "      <th>12</th>\n",
        "      <td>0.058050</td>\n",
        "      <td>-440</td>\n",
        "    </tr>\n",
        "    <tr>\n",
        "      <th>13</th>\n",
        "      <td>0.060952</td>\n",
        "      <td>-440</td>\n",
        "    </tr>\n",
        "    <tr>\n",
        "      <th>14</th>\n",
        "      <td>0.063855</td>\n",
        "      <td>-440</td>\n",
        "    </tr>\n",
        "    <tr>\n",
        "      <th>15</th>\n",
        "      <td>0.066757</td>\n",
        "      <td>-440</td>\n",
        "    </tr>\n",
        "    <tr>\n",
        "      <th>16</th>\n",
        "      <td>0.069660</td>\n",
        "      <td>-440</td>\n",
        "    </tr>\n",
        "    <tr>\n",
        "      <th>17</th>\n",
        "      <td>0.072562</td>\n",
        "      <td>-440</td>\n",
        "    </tr>\n",
        "    <tr>\n",
        "      <th>18</th>\n",
        "      <td>0.075465</td>\n",
        "      <td>-440</td>\n",
        "    </tr>\n",
        "    <tr>\n",
        "      <th>19</th>\n",
        "      <td>0.078367</td>\n",
        "      <td>-440</td>\n",
        "    </tr>\n",
        "    <tr>\n",
        "      <th>20</th>\n",
        "      <td>0.081270</td>\n",
        "      <td>-440</td>\n",
        "    </tr>\n",
        "    <tr>\n",
        "      <th>21</th>\n",
        "      <td>0.084172</td>\n",
        "      <td>-440</td>\n",
        "    </tr>\n",
        "    <tr>\n",
        "      <th>22</th>\n",
        "      <td>0.087075</td>\n",
        "      <td>-440</td>\n",
        "    </tr>\n",
        "    <tr>\n",
        "      <th>23</th>\n",
        "      <td>0.089977</td>\n",
        "      <td>-440</td>\n",
        "    </tr>\n",
        "    <tr>\n",
        "      <th>24</th>\n",
        "      <td>0.092880</td>\n",
        "      <td>-440</td>\n",
        "    </tr>\n",
        "    <tr>\n",
        "      <th>25</th>\n",
        "      <td>0.095782</td>\n",
        "      <td>-440</td>\n",
        "    </tr>\n",
        "    <tr>\n",
        "      <th>26</th>\n",
        "      <td>0.098685</td>\n",
        "      <td>-440</td>\n",
        "    </tr>\n",
        "    <tr>\n",
        "      <th>27</th>\n",
        "      <td>0.101587</td>\n",
        "      <td>-440</td>\n",
        "    </tr>\n",
        "    <tr>\n",
        "      <th>28</th>\n",
        "      <td>0.104490</td>\n",
        "      <td>-440</td>\n",
        "    </tr>\n",
        "    <tr>\n",
        "      <th>29</th>\n",
        "      <td>0.107392</td>\n",
        "      <td>-440</td>\n",
        "    </tr>\n",
        "    <tr>\n",
        "      <th>...</th>\n",
        "      <td>...</td>\n",
        "      <td>...</td>\n",
        "    </tr>\n",
        "    <tr>\n",
        "      <th>7936</th>\n",
        "      <td>23.057415</td>\n",
        "      <td>-440</td>\n",
        "    </tr>\n",
        "    <tr>\n",
        "      <th>7937</th>\n",
        "      <td>23.060317</td>\n",
        "      <td>-440</td>\n",
        "    </tr>\n",
        "    <tr>\n",
        "      <th>7938</th>\n",
        "      <td>23.063220</td>\n",
        "      <td>-440</td>\n",
        "    </tr>\n",
        "    <tr>\n",
        "      <th>7939</th>\n",
        "      <td>23.066122</td>\n",
        "      <td>-440</td>\n",
        "    </tr>\n",
        "    <tr>\n",
        "      <th>7940</th>\n",
        "      <td>23.069025</td>\n",
        "      <td>-440</td>\n",
        "    </tr>\n",
        "    <tr>\n",
        "      <th>7941</th>\n",
        "      <td>23.071927</td>\n",
        "      <td>-440</td>\n",
        "    </tr>\n",
        "    <tr>\n",
        "      <th>7942</th>\n",
        "      <td>23.074830</td>\n",
        "      <td>-440</td>\n",
        "    </tr>\n",
        "    <tr>\n",
        "      <th>7943</th>\n",
        "      <td>23.077732</td>\n",
        "      <td>-440</td>\n",
        "    </tr>\n",
        "    <tr>\n",
        "      <th>7944</th>\n",
        "      <td>23.080635</td>\n",
        "      <td>-440</td>\n",
        "    </tr>\n",
        "    <tr>\n",
        "      <th>7945</th>\n",
        "      <td>23.083537</td>\n",
        "      <td>-440</td>\n",
        "    </tr>\n",
        "    <tr>\n",
        "      <th>7946</th>\n",
        "      <td>23.086440</td>\n",
        "      <td>-440</td>\n",
        "    </tr>\n",
        "    <tr>\n",
        "      <th>7947</th>\n",
        "      <td>23.089342</td>\n",
        "      <td>-440</td>\n",
        "    </tr>\n",
        "    <tr>\n",
        "      <th>7948</th>\n",
        "      <td>23.092245</td>\n",
        "      <td>-440</td>\n",
        "    </tr>\n",
        "    <tr>\n",
        "      <th>7949</th>\n",
        "      <td>23.095147</td>\n",
        "      <td>-440</td>\n",
        "    </tr>\n",
        "    <tr>\n",
        "      <th>7950</th>\n",
        "      <td>23.098050</td>\n",
        "      <td>-440</td>\n",
        "    </tr>\n",
        "    <tr>\n",
        "      <th>7951</th>\n",
        "      <td>23.100952</td>\n",
        "      <td>-440</td>\n",
        "    </tr>\n",
        "    <tr>\n",
        "      <th>7952</th>\n",
        "      <td>23.103855</td>\n",
        "      <td>-440</td>\n",
        "    </tr>\n",
        "    <tr>\n",
        "      <th>7953</th>\n",
        "      <td>23.106757</td>\n",
        "      <td>-440</td>\n",
        "    </tr>\n",
        "    <tr>\n",
        "      <th>7954</th>\n",
        "      <td>23.109660</td>\n",
        "      <td>-440</td>\n",
        "    </tr>\n",
        "    <tr>\n",
        "      <th>7955</th>\n",
        "      <td>23.112562</td>\n",
        "      <td>-440</td>\n",
        "    </tr>\n",
        "    <tr>\n",
        "      <th>7956</th>\n",
        "      <td>23.115465</td>\n",
        "      <td>-440</td>\n",
        "    </tr>\n",
        "    <tr>\n",
        "      <th>7957</th>\n",
        "      <td>23.118367</td>\n",
        "      <td>-440</td>\n",
        "    </tr>\n",
        "    <tr>\n",
        "      <th>7958</th>\n",
        "      <td>23.121270</td>\n",
        "      <td>-440</td>\n",
        "    </tr>\n",
        "    <tr>\n",
        "      <th>7959</th>\n",
        "      <td>23.124172</td>\n",
        "      <td>-440</td>\n",
        "    </tr>\n",
        "    <tr>\n",
        "      <th>7960</th>\n",
        "      <td>23.127075</td>\n",
        "      <td>-440</td>\n",
        "    </tr>\n",
        "    <tr>\n",
        "      <th>7961</th>\n",
        "      <td>23.129977</td>\n",
        "      <td>-440</td>\n",
        "    </tr>\n",
        "    <tr>\n",
        "      <th>7962</th>\n",
        "      <td>23.132880</td>\n",
        "      <td>-440</td>\n",
        "    </tr>\n",
        "    <tr>\n",
        "      <th>7963</th>\n",
        "      <td>23.135782</td>\n",
        "      <td>-440</td>\n",
        "    </tr>\n",
        "    <tr>\n",
        "      <th>7964</th>\n",
        "      <td>23.138685</td>\n",
        "      <td>-440</td>\n",
        "    </tr>\n",
        "    <tr>\n",
        "      <th>7965</th>\n",
        "      <td>23.141587</td>\n",
        "      <td>-440</td>\n",
        "    </tr>\n",
        "  </tbody>\n",
        "</table>\n",
        "<p>7966 rows \u00d7 2 columns</p>\n",
        "</div>"
       ],
       "metadata": {},
       "output_type": "pyout",
       "prompt_number": 3,
       "text": [
        "              0    1\n",
        "0      0.023220 -440\n",
        "1      0.026122 -440\n",
        "2      0.029025 -440\n",
        "3      0.031927 -440\n",
        "4      0.034830 -440\n",
        "5      0.037732 -440\n",
        "6      0.040635 -440\n",
        "7      0.043537 -440\n",
        "8      0.046440 -440\n",
        "9      0.049342 -440\n",
        "10     0.052245 -440\n",
        "11     0.055147 -440\n",
        "12     0.058050 -440\n",
        "13     0.060952 -440\n",
        "14     0.063855 -440\n",
        "15     0.066757 -440\n",
        "16     0.069660 -440\n",
        "17     0.072562 -440\n",
        "18     0.075465 -440\n",
        "19     0.078367 -440\n",
        "20     0.081270 -440\n",
        "21     0.084172 -440\n",
        "22     0.087075 -440\n",
        "23     0.089977 -440\n",
        "24     0.092880 -440\n",
        "25     0.095782 -440\n",
        "26     0.098685 -440\n",
        "27     0.101587 -440\n",
        "28     0.104490 -440\n",
        "29     0.107392 -440\n",
        "...         ...  ...\n",
        "7936  23.057415 -440\n",
        "7937  23.060317 -440\n",
        "7938  23.063220 -440\n",
        "7939  23.066122 -440\n",
        "7940  23.069025 -440\n",
        "7941  23.071927 -440\n",
        "7942  23.074830 -440\n",
        "7943  23.077732 -440\n",
        "7944  23.080635 -440\n",
        "7945  23.083537 -440\n",
        "7946  23.086440 -440\n",
        "7947  23.089342 -440\n",
        "7948  23.092245 -440\n",
        "7949  23.095147 -440\n",
        "7950  23.098050 -440\n",
        "7951  23.100952 -440\n",
        "7952  23.103855 -440\n",
        "7953  23.106757 -440\n",
        "7954  23.109660 -440\n",
        "7955  23.112562 -440\n",
        "7956  23.115465 -440\n",
        "7957  23.118367 -440\n",
        "7958  23.121270 -440\n",
        "7959  23.124172 -440\n",
        "7960  23.127075 -440\n",
        "7961  23.129977 -440\n",
        "7962  23.132880 -440\n",
        "7963  23.135782 -440\n",
        "7964  23.138685 -440\n",
        "7965  23.141587 -440\n",
        "\n",
        "[7966 rows x 2 columns]"
       ]
      }
     ],
     "prompt_number": 3
    },
    {
     "cell_type": "code",
     "collapsed": false,
     "input": [
      "plt.figure(figsize=(18,6))\n",
      "plt.plot(pitch[0], pitch[1])\n",
      "plt.show()"
     ],
     "language": "python",
     "metadata": {},
     "outputs": [
      {
       "metadata": {},
       "output_type": "display_data",
       "png": "[encoded data removed]",
       "text": [
        "<matplotlib.figure.Figure at 0x10e9b0750>"
       ]
      }
     ],
     "prompt_number": 4
    },
    {
     "cell_type": "code",
     "collapsed": false,
     "input": [
      "pitch[2] = np.abs(pitch[1])"
     ],
     "language": "python",
     "metadata": {},
     "outputs": [],
     "prompt_number": 5
    },
    {
     "cell_type": "code",
     "collapsed": false,
     "input": [
      "plt.figure(figsize=(18,6))\n",
      "plt.plot(pitch[0], pitch[2])\n",
      "plt.show()"
     ],
     "language": "python",
     "metadata": {},
     "outputs": [
      {
       "metadata": {},
       "output_type": "display_data",
       "png": "[encoded data removed]",
       "text": [
        "<matplotlib.figure.Figure at 0x10df7d9d0>"
       ]
      }
     ],
     "prompt_number": 6
    },
    {
     "cell_type": "code",
     "collapsed": false,
     "input": [
      "cents = 1200*np.log2(pitch[1]/55.)"
     ],
     "language": "python",
     "metadata": {},
     "outputs": [],
     "prompt_number": 10
    },
    {
     "cell_type": "code",
     "collapsed": false,
     "input": [
      "plt.figure(figsize=(18,6))\n",
      "plt.plot(pitch[0], cents)\n",
      "plt.show()"
     ],
     "language": "python",
     "metadata": {},
     "outputs": [
      {
       "metadata": {},
       "output_type": "display_data",
       "png": "[encoded data removed]",
       "text": [
        "<matplotlib.figure.Figure at 0x1108c5d10>"
       ]
      }
     ],
     "prompt_number": 11
    },
    {
     "cell_type": "code",
     "collapsed": false,
     "input": [
      "1200*np.log2(440/55.)"
     ],
     "language": "python",
     "metadata": {},
     "outputs": [
      {
       "metadata": {},
       "output_type": "pyout",
       "prompt_number": 12,
       "text": [
        "3600.0"
       ]
      }
     ],
     "prompt_number": 12
    },
    {
     "cell_type": "code",
     "collapsed": false,
     "input": [
      "cents_semi = cents / 100."
     ],
     "language": "python",
     "metadata": {},
     "outputs": [],
     "prompt_number": 13
    },
    {
     "cell_type": "code",
     "collapsed": false,
     "input": [
      "plt.figure(figsize=(18,6))\n",
      "plt.plot(pitch[0], cents_semi)\n",
      "plt.show()"
     ],
     "language": "python",
     "metadata": {},
     "outputs": [
      {
       "metadata": {},
       "output_type": "display_data",
       "png": "[encoded data removed]",
       "text": [
        "<matplotlib.figure.Figure at 0x1108c57d0>"
       ]
      }
     ],
     "prompt_number": 14
    },
    {
     "cell_type": "code",
     "collapsed": false,
     "input": [
      "cents_semi_round = np.round(cents_semi)"
     ],
     "language": "python",
     "metadata": {},
     "outputs": [],
     "prompt_number": 29
    },
    {
     "cell_type": "code",
     "collapsed": false,
     "input": [
      "plt.figure(figsize=(18,6))\n",
      "plt.plot(pitch[0], cents_semi_round)\n",
      "plt.axis([0, 25, 20, 40])\n",
      "plt.show()"
     ],
     "language": "python",
     "metadata": {},
     "outputs": [
      {
       "metadata": {},
       "output_type": "display_data",
       "png": "[encoded data removed]",
       "text": [
        "<matplotlib.figure.Figure at 0x1108c5bd0>"
       ]
      }
     ],
     "prompt_number": 17
    },
    {
     "cell_type": "code",
     "collapsed": false,
     "input": [
      "import scipy as sp"
     ],
     "language": "python",
     "metadata": {},
     "outputs": [],
     "prompt_number": 18
    },
    {
     "cell_type": "code",
     "collapsed": false,
     "input": [
      "cents_semi_round_filt = sp.signal.medfilt(cents_semi_round, 10)"
     ],
     "language": "python",
     "metadata": {},
     "outputs": [
      {
       "ename": "AttributeError",
       "evalue": "'module' object has no attribute 'signal'",
       "output_type": "pyerr",
       "traceback": [
        "\u001b[0;31m---------------------------------------------------------------------------\u001b[0m\n\u001b[0;31mAttributeError\u001b[0m                            Traceback (most recent call last)",
        "\u001b[0;32m<ipython-input-19-fd0db6336328>\u001b[0m in \u001b[0;36m<module>\u001b[0;34m()\u001b[0m\n\u001b[0;32m----> 1\u001b[0;31m \u001b[0mcents_semi_round_filt\u001b[0m \u001b[0;34m=\u001b[0m \u001b[0msp\u001b[0m\u001b[0;34m.\u001b[0m\u001b[0msignal\u001b[0m\u001b[0;34m.\u001b[0m\u001b[0mmedfilt\u001b[0m\u001b[0;34m(\u001b[0m\u001b[0mcents_semi_round\u001b[0m\u001b[0;34m,\u001b[0m \u001b[0;36m10\u001b[0m\u001b[0;34m)\u001b[0m\u001b[0;34m\u001b[0m\u001b[0m\n\u001b[0m",
        "\u001b[0;31mAttributeError\u001b[0m: 'module' object has no attribute 'signal'"
       ]
      }
     ],
     "prompt_number": 19
    },
    {
     "cell_type": "code",
     "collapsed": false,
     "input": [
      "import scipy"
     ],
     "language": "python",
     "metadata": {},
     "outputs": [],
     "prompt_number": 20
    },
    {
     "cell_type": "code",
     "collapsed": false,
     "input": [
      "scipy.__version__"
     ],
     "language": "python",
     "metadata": {},
     "outputs": [
      {
       "metadata": {},
       "output_type": "pyout",
       "prompt_number": 21,
       "text": [
        "'0.15.1'"
       ]
      }
     ],
     "prompt_number": 21
    },
    {
     "cell_type": "code",
     "collapsed": false,
     "input": [
      "def medfilt(x, n):\n",
      "    half_win = n // 2\n",
      "    y = x.copy()\n",
      "    for i in range(half_win, len(x)-half_win):\n",
      "        y[i] = np.median(x[i-half_win:i+half_win])\n",
      "    return y"
     ],
     "language": "python",
     "metadata": {},
     "outputs": [],
     "prompt_number": 86
    },
    {
     "cell_type": "code",
     "collapsed": false,
     "input": [
      "time_nan = pitch[0][~np.isnan(cents_semi_round)]\n",
      "cents_semi_nan = cents_semi_round[~np.isnan(cents_semi_round)]"
     ],
     "language": "python",
     "metadata": {},
     "outputs": [],
     "prompt_number": 53
    },
    {
     "cell_type": "code",
     "collapsed": false,
     "input": [
      "plt.figure(figsize=(18,6))\n",
      "plt.plot(time_nan, cents_semi_nan)\n",
      "plt.axis([0, 25, 20, 40])\n",
      "plt.show()"
     ],
     "language": "python",
     "metadata": {},
     "outputs": [
      {
       "metadata": {},
       "output_type": "display_data",
       "png": "[encoded data removed]",
       "text": [
        "<matplotlib.figure.Figure at 0x11114bfd0>"
       ]
      }
     ],
     "prompt_number": 54
    },
    {
     "cell_type": "code",
     "collapsed": false,
     "input": [
      "len(cents_semi_nan)"
     ],
     "language": "python",
     "metadata": {},
     "outputs": [
      {
       "metadata": {},
       "output_type": "pyout",
       "prompt_number": 64,
       "text": [
        "7322"
       ]
      }
     ],
     "prompt_number": 64
    },
    {
     "cell_type": "code",
     "collapsed": false,
     "input": [
      "len(time_nan)"
     ],
     "language": "python",
     "metadata": {},
     "outputs": [
      {
       "metadata": {},
       "output_type": "pyout",
       "prompt_number": 65,
       "text": [
        "7322"
       ]
      }
     ],
     "prompt_number": 65
    },
    {
     "cell_type": "code",
     "collapsed": false,
     "input": [
      "x = np.arange(10)\n",
      "x"
     ],
     "language": "python",
     "metadata": {},
     "outputs": [
      {
       "metadata": {},
       "output_type": "pyout",
       "prompt_number": 67,
       "text": [
        "array([0, 1, 2, 3, 4, 5, 6, 7, 8, 9])"
       ]
      }
     ],
     "prompt_number": 67
    },
    {
     "cell_type": "code",
     "collapsed": false,
     "input": [
      "np.median(x)"
     ],
     "language": "python",
     "metadata": {},
     "outputs": [
      {
       "metadata": {},
       "output_type": "pyout",
       "prompt_number": 68,
       "text": [
        "4.5"
       ]
      }
     ],
     "prompt_number": 68
    },
    {
     "cell_type": "code",
     "collapsed": false,
     "input": [
      "cents_semi_nan.shape"
     ],
     "language": "python",
     "metadata": {},
     "outputs": [
      {
       "metadata": {},
       "output_type": "pyout",
       "prompt_number": 69,
       "text": [
        "(7322,)"
       ]
      }
     ],
     "prompt_number": 69
    },
    {
     "cell_type": "code",
     "collapsed": false,
     "input": [
      "medfilt(x, 4)"
     ],
     "language": "python",
     "metadata": {},
     "outputs": [
      {
       "metadata": {},
       "output_type": "pyout",
       "prompt_number": 71,
       "text": [
        "array([0, 1, 1, 2, 3, 4, 5, 6, 8, 9])"
       ]
      }
     ],
     "prompt_number": 71
    },
    {
     "cell_type": "code",
     "collapsed": false,
     "input": [
      "cents_semi_nan[:10]"
     ],
     "language": "python",
     "metadata": {},
     "outputs": [
      {
       "metadata": {},
       "output_type": "pyout",
       "prompt_number": 76,
       "text": [
        "205    31\n",
        "206    31\n",
        "207    31\n",
        "208    31\n",
        "209    31\n",
        "210    32\n",
        "211    32\n",
        "212    32\n",
        "213    32\n",
        "214    31\n",
        "Name: 1, dtype: float64"
       ]
      }
     ],
     "prompt_number": 76
    },
    {
     "cell_type": "code",
     "collapsed": false,
     "input": [
      "np.median(cents_semi_nan[:10])"
     ],
     "language": "python",
     "metadata": {},
     "outputs": [
      {
       "metadata": {},
       "output_type": "pyout",
       "prompt_number": 78,
       "text": [
        "31.0"
       ]
      }
     ],
     "prompt_number": 78
    },
    {
     "cell_type": "code",
     "collapsed": false,
     "input": [
      "10 // 2"
     ],
     "language": "python",
     "metadata": {},
     "outputs": [
      {
       "metadata": {},
       "output_type": "pyout",
       "prompt_number": 79,
       "text": [
        "5"
       ]
      }
     ],
     "prompt_number": 79
    },
    {
     "cell_type": "code",
     "collapsed": false,
     "input": [
      "cents_semi_medfilt = medfilt(np.array(cents_semi_nan), 200)"
     ],
     "language": "python",
     "metadata": {},
     "outputs": [],
     "prompt_number": 121
    },
    {
     "cell_type": "code",
     "collapsed": false,
     "input": [
      "cents_semi_medfilt.size"
     ],
     "language": "python",
     "metadata": {},
     "outputs": [
      {
       "metadata": {},
       "output_type": "pyout",
       "prompt_number": 122,
       "text": [
        "7322"
       ]
      }
     ],
     "prompt_number": 122
    },
    {
     "cell_type": "code",
     "collapsed": false,
     "input": [
      "plt.figure(figsize=(18,6))\n",
      "plt.plot(time_nan, cents_semi_medfilt)\n",
      "plt.axis([0, 25, 20, 40])\n",
      "plt.show()"
     ],
     "language": "python",
     "metadata": {},
     "outputs": [
      {
       "metadata": {},
       "output_type": "display_data",
       "png": "[encoded data removed]",
       "text": [
        "<matplotlib.figure.Figure at 0x111165ed0>"
       ]
      }
     ],
     "prompt_number": 123
    },
    {
     "cell_type": "code",
     "collapsed": false,
     "input": [
      "np.array(cents_semi_nan).shape"
     ],
     "language": "python",
     "metadata": {},
     "outputs": [
      {
       "metadata": {},
       "output_type": "pyout",
       "prompt_number": 89,
       "text": [
        "(7322,)"
       ]
      }
     ],
     "prompt_number": 89
    },
    {
     "cell_type": "code",
     "collapsed": false,
     "input": [
      "def majorityfilt(x, n):\n",
      "    half_win = n // 2\n",
      "    y = x.copy()\n",
      "    for i in range(half_win, len(x)-half_win):\n",
      "        data = x[i-half_win:i+half_win]\n",
      "        counts = np.bincount(data)\n",
      "        y[i] = np.argmax(counts)\n",
      "    return y"
     ],
     "language": "python",
     "metadata": {},
     "outputs": [],
     "prompt_number": 151
    },
    {
     "cell_type": "code",
     "collapsed": false,
     "input": [
      "a = [1,2,2,2,3]"
     ],
     "language": "python",
     "metadata": {},
     "outputs": [],
     "prompt_number": 126
    },
    {
     "cell_type": "code",
     "collapsed": false,
     "input": [
      "counts = np.bincount(a)"
     ],
     "language": "python",
     "metadata": {},
     "outputs": [],
     "prompt_number": 127
    },
    {
     "cell_type": "code",
     "collapsed": false,
     "input": [
      "np.argmax(counts)"
     ],
     "language": "python",
     "metadata": {},
     "outputs": [
      {
       "metadata": {},
       "output_type": "pyout",
       "prompt_number": 128,
       "text": [
        "2"
       ]
      }
     ],
     "prompt_number": 128
    },
    {
     "cell_type": "code",
     "collapsed": false,
     "input": [
      "a = np.array([int(c) for c in cents_semi_nan[1300:1310]])\n",
      "a"
     ],
     "language": "python",
     "metadata": {},
     "outputs": [
      {
       "metadata": {},
       "output_type": "pyout",
       "prompt_number": 138,
       "text": [
        "array([36, 36, 36, 36, 37, 37, 36, 36, 36, 36])"
       ]
      }
     ],
     "prompt_number": 138
    },
    {
     "cell_type": "code",
     "collapsed": false,
     "input": [
      "counts = np.bincount(a)"
     ],
     "language": "python",
     "metadata": {},
     "outputs": [],
     "prompt_number": 139
    },
    {
     "cell_type": "code",
     "collapsed": false,
     "input": [
      "np.argmax(counts)"
     ],
     "language": "python",
     "metadata": {},
     "outputs": [
      {
       "metadata": {},
       "output_type": "pyout",
       "prompt_number": 140,
       "text": [
        "36"
       ]
      }
     ],
     "prompt_number": 140
    },
    {
     "cell_type": "code",
     "collapsed": false,
     "input": [
      "cents_semi_maj = majorityfilt(np.array([int(c) for c in cents_semi_nan]), 300)"
     ],
     "language": "python",
     "metadata": {},
     "outputs": [],
     "prompt_number": 152
    },
    {
     "cell_type": "code",
     "collapsed": false,
     "input": [
      "plt.figure(figsize=(18,6))\n",
      "plt.plot(time_nan, cents_semi_maj)\n",
      "plt.axis([0, 25, 20, 40])\n",
      "plt.show()"
     ],
     "language": "python",
     "metadata": {},
     "outputs": [
      {
       "metadata": {},
       "output_type": "display_data",
       "png": "[encoded data removed]",
       "text": [
        "<matplotlib.figure.Figure at 0x110d488d0>"
       ]
      }
     ],
     "prompt_number": 153
    },
    {
     "cell_type": "code",
     "collapsed": false,
     "input": [
      "def pitch_changes(times, cents):\n",
      "    ts = []\n",
      "    ps = []\n",
      "    prevp = None\n",
      "    for t, p in zip(times, cents):\n",
      "        if p!=prevp:\n",
      "            ts.append(t)\n",
      "            ps.append(p)\n",
      "            prevp = p\n",
      "    return ts, ps"
     ],
     "language": "python",
     "metadata": {},
     "outputs": [],
     "prompt_number": 154
    },
    {
     "cell_type": "code",
     "collapsed": false,
     "input": [
      "ts, ps = pitch_changes(time_nan, cents_semi_maj)"
     ],
     "language": "python",
     "metadata": {},
     "outputs": [],
     "prompt_number": 156
    },
    {
     "cell_type": "code",
     "collapsed": false,
     "input": [
      "plt.figure(figsize=(18,6))\n",
      "plt.plot(ts, ps, 'o')\n",
      "plt.axis([0, 25, 20, 40])\n",
      "plt.show()"
     ],
     "language": "python",
     "metadata": {},
     "outputs": [
      {
       "metadata": {},
       "output_type": "display_data",
       "png": "[encoded data removed]",
       "text": [
        "<matplotlib.figure.Figure at 0x11085be50>"
       ]
      }
     ],
     "prompt_number": 161
    },
    {
     "cell_type": "code",
     "collapsed": false,
     "input": [
      "ps"
     ],
     "language": "python",
     "metadata": {},
     "outputs": [
      {
       "metadata": {},
       "output_type": "pyout",
       "prompt_number": 162,
       "text": [
        "[31,\n",
        " 32,\n",
        " 31,\n",
        " 32,\n",
        " 31,\n",
        " 38,\n",
        " 36,\n",
        " 33,\n",
        " 29,\n",
        " 31,\n",
        " 33,\n",
        " 31,\n",
        " 34,\n",
        " 36,\n",
        " 34,\n",
        " 33,\n",
        " 31,\n",
        " 34,\n",
        " 33,\n",
        " 31,\n",
        " 33,\n",
        " 29,\n",
        " 31,\n",
        " 29,\n",
        " 26,\n",
        " 29,\n",
        " 31]"
       ]
      }
     ],
     "prompt_number": 162
    },
    {
     "cell_type": "code",
     "collapsed": false,
     "input": [],
     "language": "python",
     "metadata": {},
     "outputs": []
    }
   ],
   "metadata": {}
  }
 ]
}